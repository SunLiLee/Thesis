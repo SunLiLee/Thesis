{
 "cells": [
  {
   "cell_type": "code",
   "execution_count": 5,
   "id": "f572cdfd",
   "metadata": {
    "scrolled": true
   },
   "outputs": [],
   "source": [
    "name = \"SunLi\""
   ]
  },
  {
   "cell_type": "code",
   "execution_count": 4,
   "id": "8b575ba9",
   "metadata": {},
   "outputs": [
    {
     "name": "stdout",
     "output_type": "stream",
     "text": [
      "My name is SunLi and this is my test file\n"
     ]
    }
   ],
   "source": [
    "print(f\"My name is {name} and this is my test file\")"
   ]
  },
  {
   "cell_type": "code",
   "execution_count": null,
   "id": "00558833",
   "metadata": {},
   "outputs": [],
   "source": []
  }
 ],
 "metadata": {
  "kernelspec": {
   "display_name": "Python [Jupyter]",
   "language": "python",
   "name": "jupyter"
  },
  "language_info": {
   "codemirror_mode": {
    "name": "ipython",
    "version": 3
   },
   "file_extension": ".py",
   "mimetype": "text/x-python",
   "name": "python",
   "nbconvert_exporter": "python",
   "pygments_lexer": "ipython3",
   "version": "3.10.0"
  }
 },
 "nbformat": 4,
 "nbformat_minor": 5
}
